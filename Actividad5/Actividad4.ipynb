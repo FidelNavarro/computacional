{
 "cells": [
  {
   "cell_type": "code",
   "execution_count": 1,
   "metadata": {},
   "outputs": [],
   "source": [
    "#cargamos las bibliotecas a utilizar y asignamos nombres cortos\n",
    "import pandas as pd\n",
    "import numpy as np\n",
    "import seaborn as sns\n",
    "import matplotlib.pyplot as plt"
   ]
  },
  {
   "cell_type": "code",
   "execution_count": 2,
   "metadata": {},
   "outputs": [],
   "source": [
    "df0 = pd.read_csv('kino.txt', skiprows=20, sep='\\s+', header=None, names=[\"FECHA\",\"PRECIP\", \"EVAP\",\"TMAX\", \"TMIN\"])\n",
    "sns.set(rc={'figure.figsize':(12,8.27)})\n",
    "\n"
   ]
  },
  {
   "cell_type": "code",
   "execution_count": 3,
   "metadata": {},
   "outputs": [
    {
     "data": {
      "text/html": [
       "<div>\n",
       "<style scoped>\n",
       "    .dataframe tbody tr th:only-of-type {\n",
       "        vertical-align: middle;\n",
       "    }\n",
       "\n",
       "    .dataframe tbody tr th {\n",
       "        vertical-align: top;\n",
       "    }\n",
       "\n",
       "    .dataframe thead th {\n",
       "        text-align: right;\n",
       "    }\n",
       "</style>\n",
       "<table border=\"1\" class=\"dataframe\">\n",
       "  <thead>\n",
       "    <tr style=\"text-align: right;\">\n",
       "      <th></th>\n",
       "      <th>FECHA</th>\n",
       "      <th>PRECIP</th>\n",
       "      <th>EVAP</th>\n",
       "      <th>TMAX</th>\n",
       "      <th>TMIN</th>\n",
       "    </tr>\n",
       "  </thead>\n",
       "  <tbody>\n",
       "    <tr>\n",
       "      <th>0</th>\n",
       "      <td>01/07/1974</td>\n",
       "      <td>0</td>\n",
       "      <td>7.3</td>\n",
       "      <td>35</td>\n",
       "      <td>22</td>\n",
       "    </tr>\n",
       "    <tr>\n",
       "      <th>1</th>\n",
       "      <td>02/07/1974</td>\n",
       "      <td>0</td>\n",
       "      <td>10.5</td>\n",
       "      <td>34</td>\n",
       "      <td>22.5</td>\n",
       "    </tr>\n",
       "    <tr>\n",
       "      <th>2</th>\n",
       "      <td>03/07/1974</td>\n",
       "      <td>0</td>\n",
       "      <td>13.6</td>\n",
       "      <td>31.5</td>\n",
       "      <td>21</td>\n",
       "    </tr>\n",
       "    <tr>\n",
       "      <th>3</th>\n",
       "      <td>04/07/1974</td>\n",
       "      <td>0</td>\n",
       "      <td>10.7</td>\n",
       "      <td>41</td>\n",
       "      <td>28</td>\n",
       "    </tr>\n",
       "    <tr>\n",
       "      <th>4</th>\n",
       "      <td>05/07/1974</td>\n",
       "      <td>0</td>\n",
       "      <td>10.9</td>\n",
       "      <td>35</td>\n",
       "      <td>28</td>\n",
       "    </tr>\n",
       "  </tbody>\n",
       "</table>\n",
       "</div>"
      ],
      "text/plain": [
       "        FECHA PRECIP  EVAP  TMAX  TMIN\n",
       "0  01/07/1974      0   7.3    35    22\n",
       "1  02/07/1974      0  10.5    34  22.5\n",
       "2  03/07/1974      0  13.6  31.5    21\n",
       "3  04/07/1974      0  10.7    41    28\n",
       "4  05/07/1974      0  10.9    35    28"
      ]
     },
     "execution_count": 3,
     "metadata": {},
     "output_type": "execute_result"
    }
   ],
   "source": [
    "df0.head()"
   ]
  },
  {
   "cell_type": "code",
   "execution_count": 4,
   "metadata": {},
   "outputs": [],
   "source": [
    "#le damos estructura a los datos\n",
    "df = pd.DataFrame(df0)\n"
   ]
  },
  {
   "cell_type": "code",
   "execution_count": 5,
   "metadata": {},
   "outputs": [
    {
     "data": {
      "text/plain": [
       "FECHA     object\n",
       "PRECIP    object\n",
       "EVAP      object\n",
       "TMAX      object\n",
       "TMIN      object\n",
       "dtype: object"
      ]
     },
     "execution_count": 5,
     "metadata": {},
     "output_type": "execute_result"
    }
   ],
   "source": [
    "#vemos los tipos de datos asignados por pandas\n",
    "df.dtypes"
   ]
  },
  {
   "cell_type": "code",
   "execution_count": 6,
   "metadata": {},
   "outputs": [],
   "source": [
    "df['PRECIP'] = df['PRECIP'].str.replace('Nulo','NaN').astype(np.float64)\n",
    "df['EVAP'] = df['EVAP'].str.replace('Nulo','NaN').astype(np.float64)\n",
    "df['TMAX'] = df['TMAX'].str.replace('Nulo','NaN').astype(np.float64)\n",
    "df['TMIN'] = df['TMIN'].str.replace('Nulo','NaN').astype(np.float64)\n",
    "\n"
   ]
  },
  {
   "cell_type": "code",
   "execution_count": 7,
   "metadata": {},
   "outputs": [],
   "source": [
    "df['FECHA'] = pd.to_datetime(df.apply(lambda x: x['FECHA'], 1), dayfirst=True)"
   ]
  },
  {
   "cell_type": "code",
   "execution_count": 8,
   "metadata": {},
   "outputs": [
    {
     "data": {
      "text/html": [
       "<div>\n",
       "<style scoped>\n",
       "    .dataframe tbody tr th:only-of-type {\n",
       "        vertical-align: middle;\n",
       "    }\n",
       "\n",
       "    .dataframe tbody tr th {\n",
       "        vertical-align: top;\n",
       "    }\n",
       "\n",
       "    .dataframe thead th {\n",
       "        text-align: right;\n",
       "    }\n",
       "</style>\n",
       "<table border=\"1\" class=\"dataframe\">\n",
       "  <thead>\n",
       "    <tr style=\"text-align: right;\">\n",
       "      <th></th>\n",
       "      <th>FECHA</th>\n",
       "      <th>PRECIP</th>\n",
       "      <th>EVAP</th>\n",
       "      <th>TMAX</th>\n",
       "      <th>TMIN</th>\n",
       "    </tr>\n",
       "  </thead>\n",
       "  <tbody>\n",
       "    <tr>\n",
       "      <th>0</th>\n",
       "      <td>01/07/1974</td>\n",
       "      <td>0.0</td>\n",
       "      <td>7.3</td>\n",
       "      <td>35.0</td>\n",
       "      <td>22.0</td>\n",
       "    </tr>\n",
       "    <tr>\n",
       "      <th>1</th>\n",
       "      <td>02/07/1974</td>\n",
       "      <td>0.0</td>\n",
       "      <td>10.5</td>\n",
       "      <td>34.0</td>\n",
       "      <td>22.5</td>\n",
       "    </tr>\n",
       "    <tr>\n",
       "      <th>2</th>\n",
       "      <td>03/07/1974</td>\n",
       "      <td>0.0</td>\n",
       "      <td>13.6</td>\n",
       "      <td>31.5</td>\n",
       "      <td>21.0</td>\n",
       "    </tr>\n",
       "    <tr>\n",
       "      <th>3</th>\n",
       "      <td>04/07/1974</td>\n",
       "      <td>0.0</td>\n",
       "      <td>10.7</td>\n",
       "      <td>41.0</td>\n",
       "      <td>28.0</td>\n",
       "    </tr>\n",
       "    <tr>\n",
       "      <th>4</th>\n",
       "      <td>05/07/1974</td>\n",
       "      <td>0.0</td>\n",
       "      <td>10.9</td>\n",
       "      <td>35.0</td>\n",
       "      <td>28.0</td>\n",
       "    </tr>\n",
       "  </tbody>\n",
       "</table>\n",
       "</div>"
      ],
      "text/plain": [
       "        FECHA  PRECIP  EVAP  TMAX  TMIN\n",
       "0  01/07/1974     0.0   7.3  35.0  22.0\n",
       "1  02/07/1974     0.0  10.5  34.0  22.5\n",
       "2  03/07/1974     0.0  13.6  31.5  21.0\n",
       "3  04/07/1974     0.0  10.7  41.0  28.0\n",
       "4  05/07/1974     0.0  10.9  35.0  28.0"
      ]
     },
     "execution_count": 8,
     "metadata": {},
     "output_type": "execute_result"
    }
   ],
   "source": [
    "df0.head()"
   ]
  },
  {
   "cell_type": "code",
   "execution_count": 9,
   "metadata": {},
   "outputs": [
    {
     "data": {
      "text/plain": [
       "FECHA     datetime64[ns]\n",
       "PRECIP           float64\n",
       "EVAP             float64\n",
       "TMAX             float64\n",
       "TMIN             float64\n",
       "dtype: object"
      ]
     },
     "execution_count": 9,
     "metadata": {},
     "output_type": "execute_result"
    }
   ],
   "source": [
    "df.dtypes"
   ]
  },
  {
   "cell_type": "code",
   "execution_count": 10,
   "metadata": {},
   "outputs": [
    {
     "data": {
      "text/html": [
       "<div>\n",
       "<style scoped>\n",
       "    .dataframe tbody tr th:only-of-type {\n",
       "        vertical-align: middle;\n",
       "    }\n",
       "\n",
       "    .dataframe tbody tr th {\n",
       "        vertical-align: top;\n",
       "    }\n",
       "\n",
       "    .dataframe thead th {\n",
       "        text-align: right;\n",
       "    }\n",
       "</style>\n",
       "<table border=\"1\" class=\"dataframe\">\n",
       "  <thead>\n",
       "    <tr style=\"text-align: right;\">\n",
       "      <th></th>\n",
       "      <th>FECHA</th>\n",
       "      <th>PRECIP</th>\n",
       "      <th>EVAP</th>\n",
       "      <th>TMAX</th>\n",
       "      <th>TMIN</th>\n",
       "    </tr>\n",
       "  </thead>\n",
       "  <tbody>\n",
       "    <tr>\n",
       "      <th>6630</th>\n",
       "      <td>2011-07-27</td>\n",
       "      <td>0.0</td>\n",
       "      <td>9.4</td>\n",
       "      <td>34.0</td>\n",
       "      <td>24.0</td>\n",
       "    </tr>\n",
       "    <tr>\n",
       "      <th>6631</th>\n",
       "      <td>2011-07-28</td>\n",
       "      <td>0.0</td>\n",
       "      <td>7.0</td>\n",
       "      <td>33.5</td>\n",
       "      <td>24.5</td>\n",
       "    </tr>\n",
       "    <tr>\n",
       "      <th>6632</th>\n",
       "      <td>2011-07-29</td>\n",
       "      <td>0.0</td>\n",
       "      <td>7.6</td>\n",
       "      <td>33.0</td>\n",
       "      <td>25.5</td>\n",
       "    </tr>\n",
       "    <tr>\n",
       "      <th>6633</th>\n",
       "      <td>2011-07-30</td>\n",
       "      <td>0.0</td>\n",
       "      <td>8.1</td>\n",
       "      <td>36.0</td>\n",
       "      <td>25.5</td>\n",
       "    </tr>\n",
       "    <tr>\n",
       "      <th>6634</th>\n",
       "      <td>2011-07-31</td>\n",
       "      <td>0.0</td>\n",
       "      <td>NaN</td>\n",
       "      <td>NaN</td>\n",
       "      <td>27.5</td>\n",
       "    </tr>\n",
       "  </tbody>\n",
       "</table>\n",
       "</div>"
      ],
      "text/plain": [
       "          FECHA  PRECIP  EVAP  TMAX  TMIN\n",
       "6630 2011-07-27     0.0   9.4  34.0  24.0\n",
       "6631 2011-07-28     0.0   7.0  33.5  24.5\n",
       "6632 2011-07-29     0.0   7.6  33.0  25.5\n",
       "6633 2011-07-30     0.0   8.1  36.0  25.5\n",
       "6634 2011-07-31     0.0   NaN   NaN  27.5"
      ]
     },
     "execution_count": 10,
     "metadata": {},
     "output_type": "execute_result"
    }
   ],
   "source": [
    "df.tail()\n"
   ]
  },
  {
   "cell_type": "code",
   "execution_count": 11,
   "metadata": {},
   "outputs": [
    {
     "data": {
      "text/plain": [
       "FECHA     datetime64[ns]\n",
       "PRECIP           float64\n",
       "EVAP             float64\n",
       "TMAX             float64\n",
       "TMIN             float64\n",
       "dtype: object"
      ]
     },
     "execution_count": 11,
     "metadata": {},
     "output_type": "execute_result"
    }
   ],
   "source": [
    "df.dtypes "
   ]
  },
  {
   "cell_type": "code",
   "execution_count": 12,
   "metadata": {},
   "outputs": [
    {
     "data": {
      "text/plain": [
       "PRECIP     0.358136\n",
       "EVAP       6.096420\n",
       "TMAX      27.111920\n",
       "TMIN      13.964030\n",
       "dtype: float64"
      ]
     },
     "execution_count": 12,
     "metadata": {},
     "output_type": "execute_result"
    }
   ],
   "source": [
    "df.mean()"
   ]
  },
  {
   "cell_type": "code",
   "execution_count": 13,
   "metadata": {},
   "outputs": [
    {
     "data": {
      "text/plain": [
       "PRECIP    2.788885\n",
       "EVAP      2.714726\n",
       "TMAX      5.785450\n",
       "TMIN      7.048581\n",
       "dtype: float64"
      ]
     },
     "execution_count": 13,
     "metadata": {},
     "output_type": "execute_result"
    }
   ],
   "source": [
    "df.std()"
   ]
  },
  {
   "cell_type": "code",
   "execution_count": 14,
   "metadata": {},
   "outputs": [
    {
     "data": {
      "text/plain": [
       "PRECIP     0.358136\n",
       "EVAP       6.096420\n",
       "TMAX      27.111920\n",
       "TMIN      13.964030\n",
       "dtype: float64"
      ]
     },
     "execution_count": 14,
     "metadata": {},
     "output_type": "execute_result"
    }
   ],
   "source": [
    "df.mean()"
   ]
  },
  {
   "cell_type": "code",
   "execution_count": 15,
   "metadata": {},
   "outputs": [
    {
     "data": {
      "text/plain": [
       "PRECIP    2.788885\n",
       "EVAP      2.714726\n",
       "TMAX      5.785450\n",
       "TMIN      7.048581\n",
       "dtype: float64"
      ]
     },
     "execution_count": 15,
     "metadata": {},
     "output_type": "execute_result"
    }
   ],
   "source": [
    "df.std()"
   ]
  },
  {
   "cell_type": "code",
   "execution_count": 16,
   "metadata": {},
   "outputs": [
    {
     "data": {
      "text/plain": [
       "PRECIP     0.0\n",
       "EVAP       6.0\n",
       "TMAX      27.0\n",
       "TMIN      12.5\n",
       "dtype: float64"
      ]
     },
     "execution_count": 16,
     "metadata": {},
     "output_type": "execute_result"
    }
   ],
   "source": [
    "df.median()"
   ]
  },
  {
   "cell_type": "code",
   "execution_count": 17,
   "metadata": {},
   "outputs": [
    {
     "data": {
      "text/plain": [
       "FECHA     2011-07-31 00:00:00\n",
       "PRECIP                     70\n",
       "EVAP                     17.7\n",
       "TMAX                     48.5\n",
       "TMIN                       30\n",
       "dtype: object"
      ]
     },
     "execution_count": 17,
     "metadata": {},
     "output_type": "execute_result"
    }
   ],
   "source": [
    "df.max()"
   ]
  },
  {
   "cell_type": "code",
   "execution_count": 18,
   "metadata": {},
   "outputs": [
    {
     "data": {
      "text/plain": [
       "FECHA     1974-07-01 00:00:00\n",
       "PRECIP                      0\n",
       "EVAP                      0.1\n",
       "TMAX                     10.5\n",
       "TMIN                       -4\n",
       "dtype: object"
      ]
     },
     "execution_count": 18,
     "metadata": {},
     "output_type": "execute_result"
    }
   ],
   "source": [
    "df.min()"
   ]
  },
  {
   "cell_type": "code",
   "execution_count": 19,
   "metadata": {},
   "outputs": [
    {
     "data": {
      "text/html": [
       "<div>\n",
       "<style scoped>\n",
       "    .dataframe tbody tr th:only-of-type {\n",
       "        vertical-align: middle;\n",
       "    }\n",
       "\n",
       "    .dataframe tbody tr th {\n",
       "        vertical-align: top;\n",
       "    }\n",
       "\n",
       "    .dataframe thead th {\n",
       "        text-align: right;\n",
       "    }\n",
       "</style>\n",
       "<table border=\"1\" class=\"dataframe\">\n",
       "  <thead>\n",
       "    <tr style=\"text-align: right;\">\n",
       "      <th></th>\n",
       "      <th>PRECIP</th>\n",
       "      <th>EVAP</th>\n",
       "      <th>TMAX</th>\n",
       "      <th>TMIN</th>\n",
       "    </tr>\n",
       "  </thead>\n",
       "  <tbody>\n",
       "    <tr>\n",
       "      <th>count</th>\n",
       "      <td>6619.000000</td>\n",
       "      <td>4721.000000</td>\n",
       "      <td>6485.00000</td>\n",
       "      <td>6486.000000</td>\n",
       "    </tr>\n",
       "    <tr>\n",
       "      <th>mean</th>\n",
       "      <td>0.358136</td>\n",
       "      <td>6.096420</td>\n",
       "      <td>27.11192</td>\n",
       "      <td>13.964030</td>\n",
       "    </tr>\n",
       "    <tr>\n",
       "      <th>std</th>\n",
       "      <td>2.788885</td>\n",
       "      <td>2.714726</td>\n",
       "      <td>5.78545</td>\n",
       "      <td>7.048581</td>\n",
       "    </tr>\n",
       "    <tr>\n",
       "      <th>min</th>\n",
       "      <td>0.000000</td>\n",
       "      <td>0.100000</td>\n",
       "      <td>10.50000</td>\n",
       "      <td>-4.000000</td>\n",
       "    </tr>\n",
       "    <tr>\n",
       "      <th>25%</th>\n",
       "      <td>0.000000</td>\n",
       "      <td>4.100000</td>\n",
       "      <td>22.00000</td>\n",
       "      <td>8.000000</td>\n",
       "    </tr>\n",
       "    <tr>\n",
       "      <th>50%</th>\n",
       "      <td>0.000000</td>\n",
       "      <td>6.000000</td>\n",
       "      <td>27.00000</td>\n",
       "      <td>12.500000</td>\n",
       "    </tr>\n",
       "    <tr>\n",
       "      <th>75%</th>\n",
       "      <td>0.000000</td>\n",
       "      <td>7.900000</td>\n",
       "      <td>32.00000</td>\n",
       "      <td>20.000000</td>\n",
       "    </tr>\n",
       "    <tr>\n",
       "      <th>max</th>\n",
       "      <td>70.000000</td>\n",
       "      <td>17.700000</td>\n",
       "      <td>48.50000</td>\n",
       "      <td>30.000000</td>\n",
       "    </tr>\n",
       "  </tbody>\n",
       "</table>\n",
       "</div>"
      ],
      "text/plain": [
       "            PRECIP         EVAP        TMAX         TMIN\n",
       "count  6619.000000  4721.000000  6485.00000  6486.000000\n",
       "mean      0.358136     6.096420    27.11192    13.964030\n",
       "std       2.788885     2.714726     5.78545     7.048581\n",
       "min       0.000000     0.100000    10.50000    -4.000000\n",
       "25%       0.000000     4.100000    22.00000     8.000000\n",
       "50%       0.000000     6.000000    27.00000    12.500000\n",
       "75%       0.000000     7.900000    32.00000    20.000000\n",
       "max      70.000000    17.700000    48.50000    30.000000"
      ]
     },
     "execution_count": 19,
     "metadata": {},
     "output_type": "execute_result"
    }
   ],
   "source": [
    "df.describe()"
   ]
  },
  {
   "cell_type": "code",
   "execution_count": 20,
   "metadata": {},
   "outputs": [
    {
     "data": {
      "text/plain": [
       "PRECIP      2370.5\n",
       "EVAP       28781.2\n",
       "TMAX      175820.8\n",
       "TMIN       90570.7\n",
       "dtype: float64"
      ]
     },
     "execution_count": 20,
     "metadata": {},
     "output_type": "execute_result"
    }
   ],
   "source": [
    "#1\n",
    "df.sum()"
   ]
  },
  {
   "cell_type": "code",
   "execution_count": 21,
   "metadata": {},
   "outputs": [],
   "source": [
    "#2\n",
    "df['week_start'] = df['FECHA'] + pd.DateOffset(weeks=1)"
   ]
  },
  {
   "cell_type": "code",
   "execution_count": 22,
   "metadata": {},
   "outputs": [
    {
     "data": {
      "text/plain": [
       "(6635, 6)"
      ]
     },
     "execution_count": 22,
     "metadata": {},
     "output_type": "execute_result"
    }
   ],
   "source": [
    "#3\n",
    "#numoero de filas y columnas\n",
    "df.shape"
   ]
  },
  {
   "cell_type": "code",
   "execution_count": 23,
   "metadata": {},
   "outputs": [
    {
     "data": {
      "text/plain": [
       "RangeIndex(start=0, stop=6635, step=1)"
      ]
     },
     "execution_count": 23,
     "metadata": {},
     "output_type": "execute_result"
    }
   ],
   "source": [
    "#4\n",
    "#descripcion del index\n",
    "df.index"
   ]
  },
  {
   "cell_type": "code",
   "execution_count": 24,
   "metadata": {},
   "outputs": [
    {
     "data": {
      "text/plain": [
       "FECHA         6635\n",
       "PRECIP        6619\n",
       "EVAP          4721\n",
       "TMAX          6485\n",
       "TMIN          6486\n",
       "week_start    6635\n",
       "dtype: int64"
      ]
     },
     "execution_count": 24,
     "metadata": {},
     "output_type": "execute_result"
    }
   ],
   "source": [
    "#5\n",
    "#numero de datos\n",
    "df.count()"
   ]
  },
  {
   "cell_type": "code",
   "execution_count": 25,
   "metadata": {},
   "outputs": [
    {
     "data": {
      "text/html": [
       "<div>\n",
       "<style scoped>\n",
       "    .dataframe tbody tr th:only-of-type {\n",
       "        vertical-align: middle;\n",
       "    }\n",
       "\n",
       "    .dataframe tbody tr th {\n",
       "        vertical-align: top;\n",
       "    }\n",
       "\n",
       "    .dataframe thead th {\n",
       "        text-align: right;\n",
       "    }\n",
       "</style>\n",
       "<table border=\"1\" class=\"dataframe\">\n",
       "  <thead>\n",
       "    <tr style=\"text-align: right;\">\n",
       "      <th></th>\n",
       "      <th>PRECIP</th>\n",
       "      <th>EVAP</th>\n",
       "      <th>TMAX</th>\n",
       "      <th>TMIN</th>\n",
       "    </tr>\n",
       "  </thead>\n",
       "  <tbody>\n",
       "    <tr>\n",
       "      <th>PRECIP</th>\n",
       "      <td>1.000000</td>\n",
       "      <td>-0.037947</td>\n",
       "      <td>0.021687</td>\n",
       "      <td>0.077564</td>\n",
       "    </tr>\n",
       "    <tr>\n",
       "      <th>EVAP</th>\n",
       "      <td>-0.037947</td>\n",
       "      <td>1.000000</td>\n",
       "      <td>0.578590</td>\n",
       "      <td>0.478234</td>\n",
       "    </tr>\n",
       "    <tr>\n",
       "      <th>TMAX</th>\n",
       "      <td>0.021687</td>\n",
       "      <td>0.578590</td>\n",
       "      <td>1.000000</td>\n",
       "      <td>0.804203</td>\n",
       "    </tr>\n",
       "    <tr>\n",
       "      <th>TMIN</th>\n",
       "      <td>0.077564</td>\n",
       "      <td>0.478234</td>\n",
       "      <td>0.804203</td>\n",
       "      <td>1.000000</td>\n",
       "    </tr>\n",
       "  </tbody>\n",
       "</table>\n",
       "</div>"
      ],
      "text/plain": [
       "          PRECIP      EVAP      TMAX      TMIN\n",
       "PRECIP  1.000000 -0.037947  0.021687  0.077564\n",
       "EVAP   -0.037947  1.000000  0.578590  0.478234\n",
       "TMAX    0.021687  0.578590  1.000000  0.804203\n",
       "TMIN    0.077564  0.478234  0.804203  1.000000"
      ]
     },
     "execution_count": 25,
     "metadata": {},
     "output_type": "execute_result"
    }
   ],
   "source": [
    "#6\n",
    "df.corr()"
   ]
  },
  {
   "cell_type": "code",
   "execution_count": 26,
   "metadata": {},
   "outputs": [
    {
     "data": {
      "text/plain": [
       "70.0"
      ]
     },
     "execution_count": 26,
     "metadata": {},
     "output_type": "execute_result"
    }
   ],
   "source": [
    "#7\n",
    "df.PRECIP.max()"
   ]
  },
  {
   "cell_type": "code",
   "execution_count": 27,
   "metadata": {},
   "outputs": [
    {
     "data": {
      "text/html": [
       "<div>\n",
       "<style scoped>\n",
       "    .dataframe tbody tr th:only-of-type {\n",
       "        vertical-align: middle;\n",
       "    }\n",
       "\n",
       "    .dataframe tbody tr th {\n",
       "        vertical-align: top;\n",
       "    }\n",
       "\n",
       "    .dataframe thead th {\n",
       "        text-align: right;\n",
       "    }\n",
       "</style>\n",
       "<table border=\"1\" class=\"dataframe\">\n",
       "  <thead>\n",
       "    <tr style=\"text-align: right;\">\n",
       "      <th></th>\n",
       "      <th>FECHA</th>\n",
       "      <th>PRECIP</th>\n",
       "      <th>EVAP</th>\n",
       "      <th>TMAX</th>\n",
       "      <th>TMIN</th>\n",
       "      <th>week_start</th>\n",
       "      <th>DIA</th>\n",
       "      <th>MES</th>\n",
       "      <th>AÑO</th>\n",
       "    </tr>\n",
       "  </thead>\n",
       "  <tbody>\n",
       "    <tr>\n",
       "      <th>0</th>\n",
       "      <td>1974-07-01</td>\n",
       "      <td>0.0</td>\n",
       "      <td>7.3</td>\n",
       "      <td>35.0</td>\n",
       "      <td>22.0</td>\n",
       "      <td>1974-07-08</td>\n",
       "      <td>1</td>\n",
       "      <td>7</td>\n",
       "      <td>1974</td>\n",
       "    </tr>\n",
       "    <tr>\n",
       "      <th>1</th>\n",
       "      <td>1974-07-02</td>\n",
       "      <td>0.0</td>\n",
       "      <td>10.5</td>\n",
       "      <td>34.0</td>\n",
       "      <td>22.5</td>\n",
       "      <td>1974-07-09</td>\n",
       "      <td>2</td>\n",
       "      <td>7</td>\n",
       "      <td>1974</td>\n",
       "    </tr>\n",
       "    <tr>\n",
       "      <th>2</th>\n",
       "      <td>1974-07-03</td>\n",
       "      <td>0.0</td>\n",
       "      <td>13.6</td>\n",
       "      <td>31.5</td>\n",
       "      <td>21.0</td>\n",
       "      <td>1974-07-10</td>\n",
       "      <td>3</td>\n",
       "      <td>7</td>\n",
       "      <td>1974</td>\n",
       "    </tr>\n",
       "    <tr>\n",
       "      <th>3</th>\n",
       "      <td>1974-07-04</td>\n",
       "      <td>0.0</td>\n",
       "      <td>10.7</td>\n",
       "      <td>41.0</td>\n",
       "      <td>28.0</td>\n",
       "      <td>1974-07-11</td>\n",
       "      <td>4</td>\n",
       "      <td>7</td>\n",
       "      <td>1974</td>\n",
       "    </tr>\n",
       "    <tr>\n",
       "      <th>4</th>\n",
       "      <td>1974-07-05</td>\n",
       "      <td>0.0</td>\n",
       "      <td>10.9</td>\n",
       "      <td>35.0</td>\n",
       "      <td>28.0</td>\n",
       "      <td>1974-07-12</td>\n",
       "      <td>5</td>\n",
       "      <td>7</td>\n",
       "      <td>1974</td>\n",
       "    </tr>\n",
       "  </tbody>\n",
       "</table>\n",
       "</div>"
      ],
      "text/plain": [
       "       FECHA  PRECIP  EVAP  TMAX  TMIN week_start  DIA  MES   AÑO\n",
       "0 1974-07-01     0.0   7.3  35.0  22.0 1974-07-08    1    7  1974\n",
       "1 1974-07-02     0.0  10.5  34.0  22.5 1974-07-09    2    7  1974\n",
       "2 1974-07-03     0.0  13.6  31.5  21.0 1974-07-10    3    7  1974\n",
       "3 1974-07-04     0.0  10.7  41.0  28.0 1974-07-11    4    7  1974\n",
       "4 1974-07-05     0.0  10.9  35.0  28.0 1974-07-12    5    7  1974"
      ]
     },
     "execution_count": 27,
     "metadata": {},
     "output_type": "execute_result"
    }
   ],
   "source": [
    "df['DIA'] = df['FECHA'].dt.day\n",
    "df.head()\n",
    "\n",
    "df['MES'] = df['FECHA'].dt.month\n",
    "df.head()\n",
    "\n",
    "df['AÑO'] = df['FECHA'].dt.year\n",
    "df.head()\n",
    "\n"
   ]
  },
  {
   "cell_type": "code",
   "execution_count": null,
   "metadata": {},
   "outputs": [],
   "source": []
  },
  {
   "cell_type": "code",
   "execution_count": 28,
   "metadata": {},
   "outputs": [],
   "source": [
    "df_ENE=df[df.MES==1]\n",
    "df_FEB=df[df.MES==2]\n",
    "df_MAR=df[df.MES==3]\n",
    "df_ABR=df[df.MES==4]\n",
    "df_MAY=df[df.MES==5]\n",
    "df_JUN=df[df.MES==6]\n",
    "df_JUL=df[df.MES==7]\n",
    "df_AGO=df[df.MES==8]\n",
    "df_SEP=df[df.MES==9]\n",
    "df_OCT=df[df.MES==10]\n",
    "df_NOV=df[df.MES==11]\n",
    "df_DIC=df[df.MES==12]"
   ]
  },
  {
   "cell_type": "code",
   "execution_count": 29,
   "metadata": {},
   "outputs": [
    {
     "name": "stdout",
     "output_type": "stream",
     "text": [
      "ENE =  180.2\n",
      "FEB =  124.0\n",
      "MAR =  42.0\n",
      "ABR =  16.0\n",
      "MAY =  7.0\n",
      "JUN =  29.0\n",
      "JUL =  320.3\n",
      "AGO =  667.4\n",
      "SEP =  388.29999999999995\n",
      "OCT =  191.6\n",
      "NOV =  85.8\n",
      "DIC =  318.9\n"
     ]
    }
   ],
   "source": [
    "#Precipitaciones por mes\n",
    "PRECIP_ENE=df_ENE.PRECIP.sum()\n",
    "print(\"ENE = \",PRECIP_ENE)\n",
    "\n",
    "PRECIP_FEB=df_FEB.PRECIP.sum()\n",
    "print(\"FEB = \",PRECIP_FEB)\n",
    "\n",
    "PRECIP_MAR=df_MAR.PRECIP.sum()\n",
    "print(\"MAR = \",PRECIP_MAR)\n",
    "\n",
    "PRECIP_ABR=df_ABR.PRECIP.sum()\n",
    "print(\"ABR = \",PRECIP_ABR)\n",
    "\n",
    "PRECIP_MAY=df_MAY.PRECIP.sum()\n",
    "print(\"MAY = \",PRECIP_MAY)\n",
    "\n",
    "PRECIP_JUN=df_JUN.PRECIP.sum()\n",
    "print(\"JUN = \",PRECIP_JUN)\n",
    "\n",
    "PRECIP_JUL=df_JUL.PRECIP.sum()\n",
    "print(\"JUL = \",PRECIP_JUL)\n",
    "\n",
    "PRECIP_AGO=df_AGO.PRECIP.sum()\n",
    "print(\"AGO = \",PRECIP_AGO)\n",
    "\n",
    "PRECIP_SEP=df_SEP.PRECIP.sum()\n",
    "print(\"SEP = \",PRECIP_SEP)\n",
    "\n",
    "PRECIP_OCT=df_OCT.PRECIP.sum()\n",
    "print(\"OCT = \",PRECIP_OCT)\n",
    "\n",
    "PRECIP_NOV=df_NOV.PRECIP.sum()\n",
    "print(\"NOV = \",PRECIP_NOV)\n",
    "\n",
    "PRECIP_DIC=df_DIC.PRECIP.sum()\n",
    "print(\"DIC = \",PRECIP_DIC)"
   ]
  },
  {
   "cell_type": "code",
   "execution_count": 30,
   "metadata": {},
   "outputs": [
    {
     "data": {
      "image/png": "[encoded data removed]",
      "text/plain": [
       "<Figure size 864x595.44 with 1 Axes>"
      ]
     },
     "metadata": {},
     "output_type": "display_data"
    }
   ],
   "source": [
    "x = ('ENE', 'FEB', 'MAR', 'ABR', 'MAY', 'JUN', 'JUL','AGO','SEP','OCT','NOV','DIC') \n",
    "y=np.arange(len(x))\n",
    "PRECIP= [PRECIP_ENE,PRECIP_FEB,PRECIP_MAR,PRECIP_ABR,PRECIP_MAY,PRECIP_JUN,PRECIP_JUL,PRECIP_AGO,PRECIP_SEP,PRECIP_OCT,PRECIP_NOV,PRECIP_DIC]\n",
    " \n",
    "plt.bar(y, PRECIP, align='center')\n",
    "plt.xticks(y, x)\n",
    "plt.ylabel('Precipitación(mm)')\n",
    "plt.title('Precipitación Acumulada Por Mes')\n",
    "plt.show()"
   ]
  },
  {
   "cell_type": "markdown",
   "metadata": {},
   "source": [
    "Los meses mas lluviosos son los de agosto y septiembre"
   ]
  },
  {
   "cell_type": "code",
   "execution_count": 31,
   "metadata": {},
   "outputs": [
    {
     "name": "stdout",
     "output_type": "stream",
     "text": [
      "ENE =  19.702471482889734\n",
      "FEB =  21.462598425196852\n",
      "MAR =  22.9315424610052\n",
      "ABR =  25.518491921005385\n",
      "MAY =  28.09313725490196\n",
      "JUN =  31.985887096774192\n",
      "JUL =  33.00778546712803\n",
      "AGO =  33.82707509881423\n",
      "SEP =  33.12952898550725\n",
      "OCT =  29.51660839160839\n",
      "NOV =  24.323300970873788\n",
      "DIC =  20.902263374485596\n"
     ]
    }
   ],
   "source": [
    "#Temperaturas por mes(max)\n",
    "TMAX_ENE=df_ENE.TMAX.mean()\n",
    "print(\"ENE = \",TMAX_ENE)\n",
    "\n",
    "TMAX_FEB=df_FEB.TMAX.mean()\n",
    "print(\"FEB = \",TMAX_FEB)\n",
    "\n",
    "TMAX_MAR=df_MAR.TMAX.mean()\n",
    "print(\"MAR = \",TMAX_MAR)\n",
    "\n",
    "TMAX_ABR=df_ABR.TMAX.mean()\n",
    "print(\"ABR = \",TMAX_ABR)\n",
    "\n",
    "TMAX_MAY=df_MAY.TMAX.mean()\n",
    "print(\"MAY = \",TMAX_MAY)\n",
    "\n",
    "TMAX_JUN=df_JUN.TMAX.mean()\n",
    "print(\"JUN = \",TMAX_JUN)\n",
    "\n",
    "TMAX_JUL=df_JUL.TMAX.mean()\n",
    "print(\"JUL = \",TMAX_JUL)\n",
    "\n",
    "TMAX_AGO=df_AGO.TMAX.mean()\n",
    "print(\"AGO = \",TMAX_AGO)\n",
    "\n",
    "TMAX_SEP=df_SEP.TMAX.mean()\n",
    "print(\"SEP = \",TMAX_SEP)\n",
    "\n",
    "TMAX_OCT=df_OCT.TMAX.mean()\n",
    "print(\"OCT = \",TMAX_OCT)\n",
    "\n",
    "TMAX_NOV=df_NOV.TMAX.mean()\n",
    "print(\"NOV = \",TMAX_NOV)\n",
    "\n",
    "TMAX_DIC=df_DIC.TMAX.mean()\n",
    "print(\"DIC = \",TMAX_DIC)\n"
   ]
  },
  {
   "cell_type": "code",
   "execution_count": 32,
   "metadata": {},
   "outputs": [
    {
     "data": {
      "image/png": "[encoded data removed]",
      "text/plain": [
       "<Figure size 864x595.44 with 1 Axes>"
      ]
     },
     "metadata": {},
     "output_type": "display_data"
    }
   ],
   "source": [
    "x = ('ENE', 'FEB', 'MAR', 'ABR', 'MAY', 'JUN', 'JUL','AGO','SEP','OCT','NOV','DIC') \n",
    "y=np.arange(len(x))\n",
    "PRECIP= [TMAX_ENE,TMAX_FEB,TMAX_MAR,TMAX_ABR,TMAX_MAY,TMAX_JUN,TMAX_JUL,TMAX_AGO,TMAX_SEP,TMAX_OCT,TMAX_NOV,TMAX_DIC]\n",
    " \n",
    "plt.bar(y, PRECIP, align='center')\n",
    "plt.xticks(y, x)\n",
    "plt.ylabel('Temperatura(C)')\n",
    "plt.title('Temperatura Máxima Por Mes')\n",
    "plt.show()"
   ]
  },
  {
   "cell_type": "markdown",
   "metadata": {},
   "source": [
    "Las temperaturas maximas registradas se encuentran alrededor del mes de agosto (30 C)"
   ]
  },
  {
   "cell_type": "code",
   "execution_count": 33,
   "metadata": {},
   "outputs": [
    {
     "name": "stdout",
     "output_type": "stream",
     "text": [
      "ENE =  6.594285714285714\n",
      "FEB =  7.166863905325443\n",
      "MAR =  8.585492227979275\n",
      "ABR =  10.700719424460432\n",
      "MAY =  13.230392156862745\n",
      "JUN =  18.22983870967742\n",
      "JUL =  23.72970639032815\n",
      "AGO =  23.788537549407113\n",
      "SEP =  21.98\n",
      "OCT =  15.895287958115183\n",
      "NOV =  9.859496124031008\n",
      "DIC =  6.888090349075975\n"
     ]
    }
   ],
   "source": [
    "#Temperaturas por mes(max)\n",
    "TMIN_ENE=df_ENE.TMIN.mean()\n",
    "print(\"ENE = \",TMIN_ENE)\n",
    "\n",
    "TMIN_FEB=df_FEB.TMIN.mean()\n",
    "print(\"FEB = \",TMIN_FEB)\n",
    "\n",
    "TMIN_MAR=df_MAR.TMIN.mean()\n",
    "print(\"MAR = \",TMIN_MAR)\n",
    "\n",
    "TMIN_ABR=df_ABR.TMIN.mean()\n",
    "print(\"ABR = \",TMIN_ABR)\n",
    "\n",
    "TMIN_MAY=df_MAY.TMIN.mean()\n",
    "print(\"MAY = \",TMIN_MAY)\n",
    "\n",
    "TMIN_JUN=df_JUN.TMIN.mean()\n",
    "print(\"JUN = \",TMIN_JUN)\n",
    "\n",
    "TMIN_JUL=df_JUL.TMIN.mean()\n",
    "print(\"JUL = \",TMIN_JUL)\n",
    "\n",
    "TMIN_AGO=df_AGO.TMIN.mean()\n",
    "print(\"AGO = \",TMIN_AGO)\n",
    "\n",
    "TMIN_SEP=df_SEP.TMIN.mean()\n",
    "print(\"SEP = \",TMIN_SEP)\n",
    "\n",
    "TMIN_OCT=df_OCT.TMIN.mean()\n",
    "print(\"OCT = \",TMIN_OCT)\n",
    "\n",
    "TMIN_NOV=df_NOV.TMIN.mean()\n",
    "print(\"NOV = \",TMIN_NOV)\n",
    "\n",
    "TMIN_DIC=df_DIC.TMIN.mean()\n",
    "print(\"DIC = \",TMIN_DIC)"
   ]
  },
  {
   "cell_type": "code",
   "execution_count": 34,
   "metadata": {},
   "outputs": [
    {
     "data": {
      "image/png": "[encoded data removed]",
      "text/plain": [
       "<Figure size 864x595.44 with 1 Axes>"
      ]
     },
     "metadata": {},
     "output_type": "display_data"
    }
   ],
   "source": [
    "x = ('ENE', 'FEB', 'MAR', 'ABR', 'MAY', 'JUN', 'JUL','AGO','SEP','OCT','NOV','DIC') \n",
    "y=np.arange(len(x))\n",
    "PRECIP= [TMIN_ENE,TMIN_FEB,TMIN_MAR,TMIN_ABR,TMIN_MAY,TMIN_JUN,TMIN_JUL,TMIN_AGO,TMIN_SEP,TMIN_OCT,TMIN_NOV,TMIN_DIC]\n",
    " \n",
    "plt.bar(y, PRECIP, align='center')\n",
    "plt.xticks(y, x)\n",
    "plt.ylabel('Temperatura(C)')\n",
    "plt.title('Temperatura Minima Por Mes')\n",
    "plt.show()"
   ]
  },
  {
   "cell_type": "markdown",
   "metadata": {},
   "source": [
    "Las temperaturas maximas registradas por mes tieneden a la misma temperatura (20 C)"
   ]
  },
  {
   "cell_type": "code",
   "execution_count": 35,
   "metadata": {},
   "outputs": [],
   "source": [
    "init = 1974\n",
    "AÑOS = [init + i for i in range(0, 37)]\n",
    "PAÑO = [ df[df.AÑO==(init + i)].PRECIP.sum() for i in range(0, 37)]"
   ]
  },
  {
   "cell_type": "code",
   "execution_count": 36,
   "metadata": {},
   "outputs": [
    {
     "data": {
      "text/html": [
       "<div>\n",
       "<style scoped>\n",
       "    .dataframe tbody tr th:only-of-type {\n",
       "        vertical-align: middle;\n",
       "    }\n",
       "\n",
       "    .dataframe tbody tr th {\n",
       "        vertical-align: top;\n",
       "    }\n",
       "\n",
       "    .dataframe thead th {\n",
       "        text-align: right;\n",
       "    }\n",
       "</style>\n",
       "<table border=\"1\" class=\"dataframe\">\n",
       "  <thead>\n",
       "    <tr style=\"text-align: right;\">\n",
       "      <th></th>\n",
       "      <th>AÑO</th>\n",
       "      <th>PRECIPITACIÓN_TOTAL</th>\n",
       "    </tr>\n",
       "  </thead>\n",
       "  <tbody>\n",
       "    <tr>\n",
       "      <th>0</th>\n",
       "      <td>1974</td>\n",
       "      <td>89.8</td>\n",
       "    </tr>\n",
       "    <tr>\n",
       "      <th>1</th>\n",
       "      <td>1975</td>\n",
       "      <td>55.9</td>\n",
       "    </tr>\n",
       "    <tr>\n",
       "      <th>2</th>\n",
       "      <td>1976</td>\n",
       "      <td>106.9</td>\n",
       "    </tr>\n",
       "    <tr>\n",
       "      <th>3</th>\n",
       "      <td>1977</td>\n",
       "      <td>104.7</td>\n",
       "    </tr>\n",
       "    <tr>\n",
       "      <th>4</th>\n",
       "      <td>1978</td>\n",
       "      <td>54.0</td>\n",
       "    </tr>\n",
       "  </tbody>\n",
       "</table>\n",
       "</div>"
      ],
      "text/plain": [
       "    AÑO  PRECIPITACIÓN_TOTAL\n",
       "0  1974                 89.8\n",
       "1  1975                 55.9\n",
       "2  1976                106.9\n",
       "3  1977                104.7\n",
       "4  1978                 54.0"
      ]
     },
     "execution_count": 36,
     "metadata": {},
     "output_type": "execute_result"
    }
   ],
   "source": [
    "d = {'AÑO': AÑOS, 'PRECIPITACIÓN_TOTAL': PAÑO}\n",
    "df2 = pd.DataFrame(data=d)\n",
    "df2.head()"
   ]
  },
  {
   "cell_type": "code",
   "execution_count": 37,
   "metadata": {},
   "outputs": [
    {
     "data": {
      "image/png": "[encoded data removed]",
      "text/plain": [
       "<Figure size 864x595.44 with 1 Axes>"
      ]
     },
     "metadata": {},
     "output_type": "display_data"
    }
   ],
   "source": [
    "fecha = AÑOS\n",
    "N = np.arange(len(fecha))\n",
    "PRECIPIT= PAÑO\n",
    " \n",
    "plt.bar(N, PRECIPIT,  width=0.5,align='center')\n",
    "plt.xticks(N, fecha, size = 'small', color = 'black', rotation = 45)\n",
    "plt.ylabel('Precipitación(mm)')\n",
    "plt.title('Precipitación Total Por Año')\n",
    "plt.show()"
   ]
  },
  {
   "cell_type": "code",
   "execution_count": 38,
   "metadata": {},
   "outputs": [
    {
     "data": {
      "image/png": "[encoded data removed]",
      "text/plain": [
       "<Figure size 864x595.44 with 1 Axes>"
      ]
     },
     "metadata": {},
     "output_type": "display_data"
    }
   ],
   "source": [
    "init = 1974\n",
    "AÑOS = [init + i for i in range(0, 37)]\n",
    "EAÑO = [ df[df.AÑO==(init + i)].EVAP.sum() for i in range(0, 37)]\n",
    "\n",
    "d = {'AÑO': AÑOS, 'EVAPORACION_TOTAL': EAÑO}\n",
    "df2 = pd.DataFrame(data=d)\n",
    "df2.head()\n",
    "\n",
    "fecha = AÑOS\n",
    "N = np.arange(len(fecha))\n",
    "PRECIPIT= PAÑO\n",
    " \n",
    "plt.bar(N, EAÑO,  width=0.5,align='center')\n",
    "plt.xticks(N, fecha, size = 'small', color = 'BLACK', rotation=45)\n",
    "plt.ylabel('Precipitación(mm)')\n",
    "plt.title('Evaporación Total Por Año')\n",
    "plt.show()"
   ]
  },
  {
   "cell_type": "code",
   "execution_count": null,
   "metadata": {},
   "outputs": [],
   "source": [
    "\n"
   ]
  },
  {
   "cell_type": "code",
   "execution_count": null,
   "metadata": {},
   "outputs": [],
   "source": []
  },
  {
   "cell_type": "code",
   "execution_count": 39,
   "metadata": {},
   "outputs": [
    {
     "name": "stdout",
     "output_type": "stream",
     "text": [
      "ENE =  0.3419354838709677\n",
      "FEB =  0.24266144814090018\n",
      "MAR =  0.07167235494880546\n",
      "ABR =  0.027874564459930314\n",
      "MAY =  0.01129032258064516\n",
      "JUN =  0.056862745098039215\n",
      "JUL =  0.5493996569468268\n",
      "AGO =  1.2664136622390891\n",
      "SEP =  0.6896980461811724\n",
      "OCT =  0.3292096219931272\n",
      "NOV =  0.15888888888888889\n",
      "DIC =  0.6429435483870968\n"
     ]
    }
   ],
   "source": [
    "#Precipitaciones por mes\n",
    "PRECIP_ENE=df_ENE.PRECIP.mean()\n",
    "print(\"ENE = \",PRECIP_ENE)\n",
    "\n",
    "PRECIP_FEB=df_FEB.PRECIP.mean()\n",
    "print(\"FEB = \",PRECIP_FEB)\n",
    "\n",
    "PRECIP_MAR=df_MAR.PRECIP.mean()\n",
    "print(\"MAR = \",PRECIP_MAR)\n",
    "\n",
    "PRECIP_ABR=df_ABR.PRECIP.mean()\n",
    "print(\"ABR = \",PRECIP_ABR)\n",
    "\n",
    "PRECIP_MAY=df_MAY.PRECIP.mean()\n",
    "print(\"MAY = \",PRECIP_MAY)\n",
    "\n",
    "PRECIP_JUN=df_JUN.PRECIP.mean()\n",
    "print(\"JUN = \",PRECIP_JUN)\n",
    "\n",
    "PRECIP_JUL=df_JUL.PRECIP.mean()\n",
    "print(\"JUL = \",PRECIP_JUL)\n",
    "\n",
    "PRECIP_AGO=df_AGO.PRECIP.mean()\n",
    "print(\"AGO = \",PRECIP_AGO)\n",
    "\n",
    "PRECIP_SEP=df_SEP.PRECIP.mean()\n",
    "print(\"SEP = \",PRECIP_SEP)\n",
    "\n",
    "PRECIP_OCT=df_OCT.PRECIP.mean()\n",
    "print(\"OCT = \",PRECIP_OCT)\n",
    "\n",
    "PRECIP_NOV=df_NOV.PRECIP.mean()\n",
    "print(\"NOV = \",PRECIP_NOV)\n",
    "\n",
    "PRECIP_DIC=df_DIC.PRECIP.mean()\n",
    "print(\"DIC = \",PRECIP_DIC)"
   ]
  },
  {
   "cell_type": "code",
   "execution_count": 40,
   "metadata": {},
   "outputs": [
    {
     "data": {
      "image/png": "[encoded data removed]",
      "text/plain": [
       "<Figure size 864x595.44 with 1 Axes>"
      ]
     },
     "metadata": {},
     "output_type": "display_data"
    }
   ],
   "source": [
    "x = ('ENE', 'FEB', 'MAR', 'ABR', 'MAY', 'JUN', 'JUL','AGO','SEP','OCT','NOV','DIC') \n",
    "y=np.arange(len(x))\n",
    "PRECIP= [PRECIP_ENE,PRECIP_FEB,PRECIP_MAR,PRECIP_ABR,PRECIP_MAY,PRECIP_JUN,PRECIP_JUL,PRECIP_AGO,PRECIP_SEP,PRECIP_OCT,PRECIP_NOV,PRECIP_DIC]\n",
    " \n",
    "plt.bar(y, PRECIP, align='center')\n",
    "plt.xticks(y, x)\n",
    "plt.ylabel('Precipitación(mm)')\n",
    "plt.title('Precipitación Promedio Por Mes')\n",
    "plt.show()"
   ]
  },
  {
   "cell_type": "code",
   "execution_count": 41,
   "metadata": {},
   "outputs": [
    {
     "data": {
      "image/png": "[encoded data removed]",
      "text/plain": [
       "<Figure size 864x595.44 with 1 Axes>"
      ]
     },
     "metadata": {},
     "output_type": "display_data"
    }
   ],
   "source": [
    "plt.plot_date(x=df.FECHA, y=df.TMAX, fmt=\"y\")\n",
    "plt.plot_date(x=df.FECHA, y=df.TMIN, fmt=\"RED\")\n",
    "plt.title(\"Variación de la Temperatura\")\n",
    "plt.ylabel(\"Temp ºC\")\n",
    "plt.grid(True)\n",
    "plt.show()"
   ]
  },
  {
   "cell_type": "code",
   "execution_count": 42,
   "metadata": {},
   "outputs": [
    {
     "data": {
      "text/plain": [
       "Text(0, 0.5, 'Temp °C')"
      ]
     },
     "execution_count": 42,
     "metadata": {},
     "output_type": "execute_result"
    },
    {
     "data": {
      "image/png": "[encoded data removed]",
      "text/plain": [
       "<Figure size 864x595.44 with 1 Axes>"
      ]
     },
     "metadata": {},
     "output_type": "display_data"
    }
   ],
   "source": [
    "ax = sns.boxplot(x=\"MES\", y=\"TMAX\", data=df)\n",
    "plt.title(\"Temperatura máxima por mes\")\n",
    "plt.ylabel (\"Temp °C\")"
   ]
  },
  {
   "cell_type": "code",
   "execution_count": 43,
   "metadata": {},
   "outputs": [
    {
     "data": {
      "text/plain": [
       "Text(0, 0.5, 'Temp °C')"
      ]
     },
     "execution_count": 43,
     "metadata": {},
     "output_type": "execute_result"
    },
    {
     "data": {
      "image/png": "[encoded data removed]",
      "text/plain": [
       "<Figure size 864x595.44 with 1 Axes>"
      ]
     },
     "metadata": {},
     "output_type": "display_data"
    }
   ],
   "source": [
    "ax = sns.boxplot(x=\"MES\", y=\"TMIN\", data=df)\n",
    "plt.title(\"Temperatura mínima por mes\")\n",
    "plt.ylabel (\"Temp °C\")"
   ]
  },
  {
   "cell_type": "code",
   "execution_count": 44,
   "metadata": {},
   "outputs": [
    {
     "data": {
      "text/plain": [
       "Text(0, 0.5, 'Temp °C')"
      ]
     },
     "execution_count": 44,
     "metadata": {},
     "output_type": "execute_result"
    },
    {
     "data": {
      "image/png": "[encoded data removed]",
      "text/plain": [
       "<Figure size 864x595.44 with 1 Axes>"
      ]
     },
     "metadata": {},
     "output_type": "display_data"
    }
   ],
   "source": [
    "ax = sns.boxplot(x=\"AÑO\", y=\"TMAX\", data=df)\n",
    "plt.xticks(rotation=45)\n",
    "plt.title(\"Temperatura máxima por año\")\n",
    "plt.ylabel (\"Temp °C\")"
   ]
  },
  {
   "cell_type": "code",
   "execution_count": 45,
   "metadata": {},
   "outputs": [
    {
     "data": {
      "text/plain": [
       "Text(0, 0.5, 'Temp °C')"
      ]
     },
     "execution_count": 45,
     "metadata": {},
     "output_type": "execute_result"
    },
    {
     "data": {
      "image/png": "[encoded data removed]",
      "text/plain": [
       "<Figure size 864x595.44 with 1 Axes>"
      ]
     },
     "metadata": {},
     "output_type": "display_data"
    }
   ],
   "source": [
    "ax = sns.boxplot(x=\"AÑO\", y=\"TMIN\", data=df)\n",
    "plt.xticks(rotation=45)\n",
    "plt.title(\"Temperatura mínima por año\")\n",
    "plt.ylabel (\"Temp °C\")"
   ]
  },
  {
   "cell_type": "code",
   "execution_count": 65,
   "metadata": {},
   "outputs": [
    {
     "data": {
      "text/plain": [
       "10"
      ]
     },
     "execution_count": 65,
     "metadata": {},
     "output_type": "execute_result"
    }
   ],
   "source": [
    "#Dias con heladas tmin<0\n",
    "j = df.TMIN\n",
    "len([1 for i in j if i < 0])\n",
    "\n"
   ]
  },
  {
   "cell_type": "code",
   "execution_count": null,
   "metadata": {},
   "outputs": [],
   "source": []
  },
  {
   "cell_type": "code",
   "execution_count": null,
   "metadata": {},
   "outputs": [],
   "source": []
  }
 ],
 "metadata": {
  "kernelspec": {
   "display_name": "Python 3",
   "language": "python",
   "name": "python3"
  },
  "language_info": {
   "codemirror_mode": {
    "name": "ipython",
    "version": 3
   },
   "file_extension": ".py",
   "mimetype": "text/x-python",
   "name": "python",
   "nbconvert_exporter": "python",
   "pygments_lexer": "ipython3",
   "version": "3.7.1"
  }
 },
 "nbformat": 4,
 "nbformat_minor": 2
}
