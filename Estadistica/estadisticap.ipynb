{
 "cells": [
  {
   "cell_type": "code",
   "execution_count": 92,
   "metadata": {},
   "outputs": [],
   "source": [
    "import pandas as pd\n",
    "import numpy as np\n",
    "import seaborn as sns\n",
    "import matplotlib.pyplot as plt\n",
    "import datetime\n",
    "import matplotlib.dates as mdates\n",
    "import scipy\n",
    "import numpy as np\n",
    "from pylab import *\n",
    "from scipy.optimize import curve_fit\n",
    "from scipy.stats import linregress"
   ]
  },
  {
   "cell_type": "code",
   "execution_count": 93,
   "metadata": {},
   "outputs": [],
   "source": [
    "df=pd.read_excel('SN.xlsx')"
   ]
  },
  {
   "cell_type": "code",
   "execution_count": 94,
   "metadata": {},
   "outputs": [
    {
     "data": {
      "text/html": [
       "<div>\n",
       "<style scoped>\n",
       "    .dataframe tbody tr th:only-of-type {\n",
       "        vertical-align: middle;\n",
       "    }\n",
       "\n",
       "    .dataframe tbody tr th {\n",
       "        vertical-align: top;\n",
       "    }\n",
       "\n",
       "    .dataframe thead th {\n",
       "        text-align: right;\n",
       "    }\n",
       "</style>\n",
       "<table border=\"1\" class=\"dataframe\">\n",
       "  <thead>\n",
       "    <tr style=\"text-align: right;\">\n",
       "      <th></th>\n",
       "      <th>SN</th>\n",
       "      <th>m15B</th>\n",
       "      <th>Em15B</th>\n",
       "      <th>B</th>\n",
       "      <th>EB</th>\n",
       "      <th>V</th>\n",
       "      <th>Ev</th>\n",
       "      <th>i</th>\n",
       "      <th>Ei</th>\n",
       "    </tr>\n",
       "  </thead>\n",
       "  <tbody>\n",
       "    <tr>\n",
       "      <th>1</th>\n",
       "      <td>1986G</td>\n",
       "      <td>1.73</td>\n",
       "      <td>0.07</td>\n",
       "      <td>-17.72</td>\n",
       "      <td>0.42</td>\n",
       "      <td>-18.12</td>\n",
       "      <td>0.32</td>\n",
       "      <td>-18.21</td>\n",
       "      <td>0.23</td>\n",
       "    </tr>\n",
       "    <tr>\n",
       "      <th>2</th>\n",
       "      <td>1989B</td>\n",
       "      <td>1.31</td>\n",
       "      <td>0.07</td>\n",
       "      <td>-18.50</td>\n",
       "      <td>0.33</td>\n",
       "      <td>-18.50</td>\n",
       "      <td>0.32</td>\n",
       "      <td>-18.30</td>\n",
       "      <td>0.31</td>\n",
       "    </tr>\n",
       "    <tr>\n",
       "      <th>3</th>\n",
       "      <td>1991T</td>\n",
       "      <td>0.94</td>\n",
       "      <td>0.07</td>\n",
       "      <td>-18.96</td>\n",
       "      <td>0.31</td>\n",
       "      <td>-19.10</td>\n",
       "      <td>0.31</td>\n",
       "      <td>-19.04</td>\n",
       "      <td>0.30</td>\n",
       "    </tr>\n",
       "    <tr>\n",
       "      <th>4</th>\n",
       "      <td>1991bg</td>\n",
       "      <td>1.88</td>\n",
       "      <td>0.10</td>\n",
       "      <td>-16.38</td>\n",
       "      <td>0.15</td>\n",
       "      <td>-17.13</td>\n",
       "      <td>0.10</td>\n",
       "      <td>-17.57</td>\n",
       "      <td>0.10</td>\n",
       "    </tr>\n",
       "    <tr>\n",
       "      <th>5</th>\n",
       "      <td>1992A</td>\n",
       "      <td>1.33</td>\n",
       "      <td>0.04</td>\n",
       "      <td>-18.05</td>\n",
       "      <td>0.14</td>\n",
       "      <td>-18.10</td>\n",
       "      <td>0.13</td>\n",
       "      <td>-17.85</td>\n",
       "      <td>0.12</td>\n",
       "    </tr>\n",
       "  </tbody>\n",
       "</table>\n",
       "</div>"
      ],
      "text/plain": [
       "       SN  m15B  Em15B      B    EB      V    Ev      i    Ei\n",
       "1   1986G  1.73   0.07 -17.72  0.42 -18.12  0.32 -18.21  0.23\n",
       "2   1989B  1.31   0.07 -18.50  0.33 -18.50  0.32 -18.30  0.31\n",
       "3   1991T  0.94   0.07 -18.96  0.31 -19.10  0.31 -19.04  0.30\n",
       "4  1991bg  1.88   0.10 -16.38  0.15 -17.13  0.10 -17.57  0.10\n",
       "5   1992A  1.33   0.04 -18.05  0.14 -18.10  0.13 -17.85  0.12"
      ]
     },
     "execution_count": 94,
     "metadata": {},
     "output_type": "execute_result"
    }
   ],
   "source": [
    "df.tail()"
   ]
  },
  {
   "cell_type": "code",
   "execution_count": 95,
   "metadata": {},
   "outputs": [],
   "source": [
    "#Método de York\n",
    "#Y=B+Ax+e\n",
    "B=-19.891\n",
    "A=1.187"
   ]
  },
  {
   "cell_type": "code",
   "execution_count": 96,
   "metadata": {},
   "outputs": [],
   "source": [
    "ox=df.Em15B\n",
    "oy=df.Ei"
   ]
  },
  {
   "cell_type": "code",
   "execution_count": 97,
   "metadata": {},
   "outputs": [],
   "source": [
    "Wi=pd.DataFrame([])"
   ]
  },
  {
   "cell_type": "code",
   "execution_count": 98,
   "metadata": {},
   "outputs": [],
   "source": [
    "#correlación entre los errores de x, y\n",
    "r=[]\n",
    "for i in range(0,len(df)):\n",
    "    g=(df.Em15B[i]-mean(df.Em15B))*(df.Ei[i]-mean(df.Ei))\n",
    "    h=sqrt((df.Em15B[i]-mean(df.Em15B))**2)\n",
    "    k=sqrt((df.Ei[i]-mean(df.Ei))**2)\n",
    "    r.append(g/(h*k))"
   ]
  },
  {
   "cell_type": "code",
   "execution_count": 99,
   "metadata": {},
   "outputs": [],
   "source": [
    "w=[]\n",
    "a= sqrt(ox*oy)\n",
    "for i in range(0,len(df)):\n",
    "   # if i==14:\n",
    "    #    k=0\n",
    "    #else:\n",
    "    j=(ox[i] * A**2 * oy[i] - 2*A * a[i] * r[i] )\n",
    "    c = ox[i]*oy[i]#/(ox[i] * A**2 * oy[i] - 2*A * a[i] * r )\n",
    "    k= c/j\n",
    "    w.append(k)"
   ]
  },
  {
   "cell_type": "code",
   "execution_count": null,
   "metadata": {},
   "outputs": [],
   "source": []
  },
  {
   "cell_type": "code",
   "execution_count": 100,
   "metadata": {},
   "outputs": [],
   "source": [
    "#Parámetros de la linea ajustada al error\n",
    "#y=Bo+Aox\n",
    "Bo=0\n",
    "Ao=0\n",
    "\n",
    "U=np.std(df.m15B)\n",
    "V=np.std(df.i)"
   ]
  },
  {
   "cell_type": "code",
   "execution_count": 101,
   "metadata": {},
   "outputs": [
    {
     "data": {
      "text/plain": [
       "1.4701568209690392"
      ]
     },
     "execution_count": 101,
     "metadata": {},
     "output_type": "execute_result"
    }
   ],
   "source": [
    "s=[]\n",
    "j=0\n",
    "k=0\n",
    "\n",
    "for i in range(0, len(df)):\n",
    "    #if i==14:\n",
    "       # b=0\n",
    "       # j=( w[i] * b * V ) + j\n",
    "       # k=( w[i] * b * U) + k\n",
    "    #else:\n",
    "    b=w[i]*( (U/oy[i]) + (B*ox[i]/V) - (B*U+V)*(r[i]/a[i]) )\n",
    "    j=( w[i] * b * V ) + j\n",
    "    k=( w[i] * b * U) + k\n",
    "\n",
    "Ao=j/k\n",
    "Ao"
   ]
  },
  {
   "cell_type": "code",
   "execution_count": null,
   "metadata": {},
   "outputs": [],
   "source": []
  },
  {
   "cell_type": "code",
   "execution_count": 102,
   "metadata": {},
   "outputs": [
    {
     "data": {
      "text/plain": [
       "-20.290371378934626"
      ]
     },
     "execution_count": 102,
     "metadata": {},
     "output_type": "execute_result"
    }
   ],
   "source": [
    "Bo=mean(df.i)-Ao*mean(df.m15B)\n",
    "Bo"
   ]
  },
  {
   "cell_type": "code",
   "execution_count": 103,
   "metadata": {},
   "outputs": [
    {
     "data": {
      "text/plain": [
       "18.476441370717954"
      ]
     },
     "execution_count": 103,
     "metadata": {},
     "output_type": "execute_result"
    }
   ],
   "source": [
    "#Calcular el error\n",
    "oA=0\n",
    "j=0\n",
    "for i in range(0, len(df)):\n",
    "    j=w[i]*U**2\n",
    "    \n",
    "    \n",
    "oA=sqrt(-1/j)\n",
    "oA"
   ]
  },
  {
   "cell_type": "code",
   "execution_count": 104,
   "metadata": {},
   "outputs": [
    {
     "data": {
      "text/plain": [
       "21.951828136948894"
      ]
     },
     "execution_count": 104,
     "metadata": {},
     "output_type": "execute_result"
    }
   ],
   "source": [
    "oB=0\n",
    "j=0\n",
    "for i in range(0, len(df)):\n",
    "    j=w[i]\n",
    "oB=sqrt(j+mean(df.m15B)*oA**2)\n",
    "oB"
   ]
  },
  {
   "cell_type": "code",
   "execution_count": 105,
   "metadata": {},
   "outputs": [],
   "source": [
    "#calculo de S\n",
    "S=0\n",
    "#z=mean(a)\n",
    "for i in range(0, len(df)):\n",
    "    S= w[i]*( df.i[i]- df.m15B[i]*Ao-Bo)**2 + S  \n",
    "S=abs(S)"
   ]
  },
  {
   "cell_type": "code",
   "execution_count": 106,
   "metadata": {},
   "outputs": [],
   "source": [
    "eBo=oB*sqrt(S/(len(df)-2))\n",
    "\n",
    "eAo=oA*sqrt(S/(len(df)-2))"
   ]
  },
  {
   "cell_type": "code",
   "execution_count": 107,
   "metadata": {},
   "outputs": [
    {
     "data": {
      "text/plain": [
       "1.3452975488167491"
      ]
     },
     "execution_count": 107,
     "metadata": {},
     "output_type": "execute_result"
    }
   ],
   "source": [
    "eAo"
   ]
  },
  {
   "cell_type": "code",
   "execution_count": 108,
   "metadata": {},
   "outputs": [
    {
     "data": {
      "text/plain": [
       "1.5983456982948416"
      ]
     },
     "execution_count": 108,
     "metadata": {},
     "output_type": "execute_result"
    }
   ],
   "source": [
    "eBo"
   ]
  },
  {
   "cell_type": "code",
   "execution_count": 109,
   "metadata": {},
   "outputs": [],
   "source": [
    "#R de Pearson\n",
    "RSS=0\n",
    "for i in range(0, len(df)):\n",
    "    RSS=(A+B*df.m15B[i]-df.i[i])**2 / ((.147*Ao)**2 + (.1788)**2) + RSS\n",
    "#RSS"
   ]
  },
  {
   "cell_type": "code",
   "execution_count": 110,
   "metadata": {},
   "outputs": [],
   "source": [
    "TSS=0\n",
    "for i in range(0, len(df)):\n",
    "    TSS=(df.i[i]-mean(df.i))**2+TSS\n",
    "#TSS"
   ]
  },
  {
   "cell_type": "code",
   "execution_count": 111,
   "metadata": {},
   "outputs": [
    {
     "data": {
      "text/plain": [
       "0.9998614576435236"
      ]
     },
     "execution_count": 111,
     "metadata": {},
     "output_type": "execute_result"
    }
   ],
   "source": [
    "1-(TSS/RSS)"
   ]
  },
  {
   "cell_type": "code",
   "execution_count": null,
   "metadata": {},
   "outputs": [],
   "source": [
    "\n"
   ]
  },
  {
   "cell_type": "code",
   "execution_count": null,
   "metadata": {},
   "outputs": [],
   "source": []
  },
  {
   "cell_type": "code",
   "execution_count": null,
   "metadata": {},
   "outputs": [],
   "source": []
  }
 ],
 "metadata": {
  "kernelspec": {
   "display_name": "Python 3",
   "language": "python",
   "name": "python3"
  },
  "language_info": {
   "codemirror_mode": {
    "name": "ipython",
    "version": 3
   },
   "file_extension": ".py",
   "mimetype": "text/x-python",
   "name": "python",
   "nbconvert_exporter": "python",
   "pygments_lexer": "ipython3",
   "version": "3.7.1"
  }
 },
 "nbformat": 4,
 "nbformat_minor": 2
}
