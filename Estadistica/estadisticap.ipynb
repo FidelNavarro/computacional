{
 "cells": [
  {
   "cell_type": "code",
   "execution_count": 2,
   "metadata": {},
   "outputs": [],
   "source": [
    "import pandas as pd\n",
    "import numpy as np\n",
    "import seaborn as sns\n",
    "import matplotlib.pyplot as plt\n",
    "import datetime\n",
    "import matplotlib.dates as mdates\n",
    "import scipy\n",
    "import numpy as np\n",
    "from pylab import *\n",
    "from scipy.optimize import curve_fit\n",
    "from scipy.stats import linregress"
   ]
  },
  {
   "cell_type": "code",
   "execution_count": 3,
   "metadata": {},
   "outputs": [],
   "source": [
    "df=pd.read_excel('sn_diana.xlsx')"
   ]
  },
  {
   "cell_type": "code",
   "execution_count": 4,
   "metadata": {},
   "outputs": [
    {
     "data": {
      "text/html": [
       "<div>\n",
       "<style scoped>\n",
       "    .dataframe tbody tr th:only-of-type {\n",
       "        vertical-align: middle;\n",
       "    }\n",
       "\n",
       "    .dataframe tbody tr th {\n",
       "        vertical-align: top;\n",
       "    }\n",
       "\n",
       "    .dataframe thead th {\n",
       "        text-align: right;\n",
       "    }\n",
       "</style>\n",
       "<table border=\"1\" class=\"dataframe\">\n",
       "  <thead>\n",
       "    <tr style=\"text-align: right;\">\n",
       "      <th></th>\n",
       "      <th>SN</th>\n",
       "      <th>m15B</th>\n",
       "      <th>Em15B</th>\n",
       "      <th>B</th>\n",
       "      <th>EB</th>\n",
       "      <th>V</th>\n",
       "      <th>Ev</th>\n",
       "      <th>i</th>\n",
       "      <th>Ei</th>\n",
       "      <th>Rv</th>\n",
       "      <th>E(B-V)</th>\n",
       "    </tr>\n",
       "  </thead>\n",
       "  <tbody>\n",
       "    <tr>\n",
       "      <th>19</th>\n",
       "      <td>2007bd</td>\n",
       "      <td>1.234</td>\n",
       "      <td>0.012</td>\n",
       "      <td>-19.19</td>\n",
       "      <td>0.0440</td>\n",
       "      <td>-19.25</td>\n",
       "      <td>0.0320</td>\n",
       "      <td>-18.85</td>\n",
       "      <td>0.044</td>\n",
       "      <td>0.1218</td>\n",
       "      <td>0.058</td>\n",
       "    </tr>\n",
       "    <tr>\n",
       "      <th>20</th>\n",
       "      <td>2007le</td>\n",
       "      <td>0.971</td>\n",
       "      <td>0.016</td>\n",
       "      <td>-18.78</td>\n",
       "      <td>0.0319</td>\n",
       "      <td>-19.24</td>\n",
       "      <td>0.0300</td>\n",
       "      <td>-19.54</td>\n",
       "      <td>0.057</td>\n",
       "      <td>0.6596</td>\n",
       "      <td>0.388</td>\n",
       "    </tr>\n",
       "    <tr>\n",
       "      <th>21</th>\n",
       "      <td>2007on</td>\n",
       "      <td>1.860</td>\n",
       "      <td>0.020</td>\n",
       "      <td>-18.60</td>\n",
       "      <td>0.0077</td>\n",
       "      <td>-18.69</td>\n",
       "      <td>0.0066</td>\n",
       "      <td>-18.30</td>\n",
       "      <td>0.021</td>\n",
       "      <td>0.0245</td>\n",
       "      <td>0.007</td>\n",
       "    </tr>\n",
       "    <tr>\n",
       "      <th>22</th>\n",
       "      <td>2008bc</td>\n",
       "      <td>0.823</td>\n",
       "      <td>0.019</td>\n",
       "      <td>-19.56</td>\n",
       "      <td>0.0073</td>\n",
       "      <td>-19.51</td>\n",
       "      <td>0.0130</td>\n",
       "      <td>-18.78</td>\n",
       "      <td>0.054</td>\n",
       "      <td>0.0589</td>\n",
       "      <td>0.019</td>\n",
       "    </tr>\n",
       "    <tr>\n",
       "      <th>23</th>\n",
       "      <td>2008gp</td>\n",
       "      <td>0.970</td>\n",
       "      <td>0.100</td>\n",
       "      <td>-19.34</td>\n",
       "      <td>0.0530</td>\n",
       "      <td>-19.47</td>\n",
       "      <td>0.0520</td>\n",
       "      <td>-18.75</td>\n",
       "      <td>0.192</td>\n",
       "      <td>0.0686</td>\n",
       "      <td>0.098</td>\n",
       "    </tr>\n",
       "  </tbody>\n",
       "</table>\n",
       "</div>"
      ],
      "text/plain": [
       "        SN   m15B  Em15B      B      EB      V      Ev      i     Ei      Rv  \\\n",
       "19  2007bd  1.234  0.012 -19.19  0.0440 -19.25  0.0320 -18.85  0.044  0.1218   \n",
       "20  2007le  0.971  0.016 -18.78  0.0319 -19.24  0.0300 -19.54  0.057  0.6596   \n",
       "21  2007on  1.860  0.020 -18.60  0.0077 -18.69  0.0066 -18.30  0.021  0.0245   \n",
       "22  2008bc  0.823  0.019 -19.56  0.0073 -19.51  0.0130 -18.78  0.054  0.0589   \n",
       "23  2008gp  0.970  0.100 -19.34  0.0530 -19.47  0.0520 -18.75  0.192  0.0686   \n",
       "\n",
       "    E(B-V)  \n",
       "19   0.058  \n",
       "20   0.388  \n",
       "21   0.007  \n",
       "22   0.019  \n",
       "23   0.098  "
      ]
     },
     "execution_count": 4,
     "metadata": {},
     "output_type": "execute_result"
    }
   ],
   "source": [
    "df.tail()"
   ]
  },
  {
   "cell_type": "code",
   "execution_count": 95,
   "metadata": {},
   "outputs": [],
   "source": [
    "x=df.m15B\n",
    "y=df.B"
   ]
  },
  {
   "cell_type": "code",
   "execution_count": 96,
   "metadata": {},
   "outputs": [],
   "source": [
    "#Método de York\n",
    "#Y=B+Ax+e\n",
    "B=linregress(x,y).intercept\n",
    "A=linregress(x,y).slope"
   ]
  },
  {
   "cell_type": "code",
   "execution_count": 97,
   "metadata": {},
   "outputs": [],
   "source": [
    "ox=df.Em15B\n",
    "oy=df.EB"
   ]
  },
  {
   "cell_type": "code",
   "execution_count": 98,
   "metadata": {},
   "outputs": [],
   "source": [
    "Wi=pd.DataFrame([])"
   ]
  },
  {
   "cell_type": "code",
   "execution_count": 99,
   "metadata": {},
   "outputs": [],
   "source": [
    "#correlación entre los errores de x, y\n",
    "r=[]\n",
    "for i in range(0,len(df)):\n",
    "    g=(ox[i]-mean(ox))*(oy[i]-mean(oy))\n",
    "    h=sqrt((ox[i]-mean(ox))**2)\n",
    "    k=sqrt((oy[i]-mean(oy))**2)\n",
    "    r.append(g/(h*k))"
   ]
  },
  {
   "cell_type": "code",
   "execution_count": 100,
   "metadata": {},
   "outputs": [],
   "source": [
    "w=[]\n",
    "a= sqrt(ox*oy)\n",
    "for i in range(0,len(df)):\n",
    "    if i==14:\n",
    "        k=0\n",
    "    else:\n",
    "        j=(ox[i] * A**2 * oy[i] - 2*A * a[i] * r[i] )\n",
    "        c = ox[i]*oy[i]#/(ox[i] * A**2 * oy[i] - 2*A * a[i] * r )\n",
    "        k= c/j\n",
    "    w.append(k)"
   ]
  },
  {
   "cell_type": "code",
   "execution_count": null,
   "metadata": {},
   "outputs": [],
   "source": []
  },
  {
   "cell_type": "code",
   "execution_count": 101,
   "metadata": {},
   "outputs": [],
   "source": [
    "#Parámetros de la linea ajustada al error\n",
    "#y=Bo+Aox\n",
    "Bo=0\n",
    "Ao=0\n",
    "\n",
    "U=np.std(x)\n",
    "V=np.std(y)"
   ]
  },
  {
   "cell_type": "code",
   "execution_count": 102,
   "metadata": {},
   "outputs": [
    {
     "data": {
      "text/plain": [
       "0.8928238433440517"
      ]
     },
     "execution_count": 102,
     "metadata": {},
     "output_type": "execute_result"
    }
   ],
   "source": [
    "s=[]\n",
    "j=0\n",
    "k=0\n",
    "\n",
    "for i in range(0, len(df)):\n",
    "    if i==14:\n",
    "        b=0\n",
    "        j=( w[i] * b * V ) + j\n",
    "        k=( w[i] * b * U) + k\n",
    "    else:\n",
    "        b=w[i]*( (U/oy[i]) + (B*ox[i]/V) - (B*U+V)*(r[i]/a[i]) )\n",
    "        j=( w[i] * b * V ) + j\n",
    "        k=( w[i] * b * U) + k\n",
    "\n",
    "Ao=j/k\n",
    "Ao"
   ]
  },
  {
   "cell_type": "code",
   "execution_count": null,
   "metadata": {},
   "outputs": [],
   "source": []
  },
  {
   "cell_type": "code",
   "execution_count": 103,
   "metadata": {},
   "outputs": [
    {
     "data": {
      "text/plain": [
       "-20.14454386231049"
      ]
     },
     "execution_count": 103,
     "metadata": {},
     "output_type": "execute_result"
    }
   ],
   "source": [
    "Bo=mean(y)-Ao*mean(x)\n",
    "Bo"
   ]
  },
  {
   "cell_type": "code",
   "execution_count": 104,
   "metadata": {},
   "outputs": [
    {
     "data": {
      "text/plain": [
       "14.903994311695776"
      ]
     },
     "execution_count": 104,
     "metadata": {},
     "output_type": "execute_result"
    }
   ],
   "source": [
    "#Calcular el error\n",
    "oA=0\n",
    "j=0\n",
    "for i in range(0, len(df)):\n",
    "    j=w[i]*U**2\n",
    "    \n",
    "    \n",
    "oA=sqrt(abs(1/j))\n",
    "oA"
   ]
  },
  {
   "cell_type": "code",
   "execution_count": 105,
   "metadata": {},
   "outputs": [
    {
     "data": {
      "text/plain": [
       "16.224402476520293"
      ]
     },
     "execution_count": 105,
     "metadata": {},
     "output_type": "execute_result"
    }
   ],
   "source": [
    "oB=0\n",
    "j=0\n",
    "for i in range(0, len(df)):\n",
    "    j=w[i]\n",
    "oB=sqrt(j+mean(x)*oA**2)\n",
    "oB"
   ]
  },
  {
   "cell_type": "code",
   "execution_count": 106,
   "metadata": {},
   "outputs": [],
   "source": [
    "#calculo de S\n",
    "S=0\n",
    "#z=mean(a)\n",
    "for i in range(0, len(df)):\n",
    "    S= w[i]*( y[i]- x[i]*Ao-Bo)**2 + S  \n",
    "S=abs(S)"
   ]
  },
  {
   "cell_type": "code",
   "execution_count": 107,
   "metadata": {},
   "outputs": [],
   "source": [
    "eBo=oB*sqrt(S/(len(df)-2))\n",
    "\n",
    "eAo=oA*sqrt(S/(len(df)-2))"
   ]
  },
  {
   "cell_type": "code",
   "execution_count": 108,
   "metadata": {},
   "outputs": [
    {
     "data": {
      "text/plain": [
       "0.3703709999530149"
      ]
     },
     "execution_count": 108,
     "metadata": {},
     "output_type": "execute_result"
    }
   ],
   "source": [
    "eAo"
   ]
  },
  {
   "cell_type": "code",
   "execution_count": 109,
   "metadata": {},
   "outputs": [
    {
     "data": {
      "text/plain": [
       "0.40318374008996005"
      ]
     },
     "execution_count": 109,
     "metadata": {},
     "output_type": "execute_result"
    }
   ],
   "source": [
    "eBo"
   ]
  },
  {
   "cell_type": "code",
   "execution_count": 110,
   "metadata": {},
   "outputs": [],
   "source": [
    "#R de Pearson\n",
    "R=0\n",
    "for i in range(0, len(df)):\n",
    "    R=(A+B*x[i]-y[i])**2 / ((.147*Ao)**2 + (.1788)**2) + R"
   ]
  },
  {
   "cell_type": "code",
   "execution_count": 111,
   "metadata": {},
   "outputs": [],
   "source": [
    "T=0\n",
    "for i in range(0, len(df)):\n",
    "    T=(y[i]-mean(y))**2+T\n",
    "sct=T"
   ]
  },
  {
   "cell_type": "code",
   "execution_count": 112,
   "metadata": {},
   "outputs": [
    {
     "data": {
      "text/plain": [
       "0.9999368077191888"
      ]
     },
     "execution_count": 112,
     "metadata": {},
     "output_type": "execute_result"
    }
   ],
   "source": [
    "1-(T/R)"
   ]
  },
  {
   "cell_type": "code",
   "execution_count": 113,
   "metadata": {},
   "outputs": [],
   "source": [
    "j=h=k=l=z=0\n",
    "for i in range(0, len(df)):\n",
    "    j=x[i] * y[i] +j\n",
    "    h= x[i]+h\n",
    "    k=y[i]+k\n",
    "    l=( x[i])**2 +l\n",
    "    z= x[i]+z\n",
    "f=h * k \n",
    "#b1=(j-f/len(df))/(l-z**2 /len(df))\n",
    "b1=A"
   ]
  },
  {
   "cell_type": "code",
   "execution_count": 114,
   "metadata": {},
   "outputs": [],
   "source": [
    "#bo=mean(y)-b1*mean(x)\n",
    "bo=B"
   ]
  },
  {
   "cell_type": "code",
   "execution_count": 115,
   "metadata": {},
   "outputs": [
    {
     "data": {
      "text/plain": [
       "0.05956193181818174"
      ]
     },
     "execution_count": 115,
     "metadata": {},
     "output_type": "execute_result"
    }
   ],
   "source": [
    "Sc=T/(len(df)-2)\n",
    "Sc"
   ]
  },
  {
   "cell_type": "code",
   "execution_count": 116,
   "metadata": {},
   "outputs": [
    {
     "data": {
      "text/plain": [
       "0.15408461796876963"
      ]
     },
     "execution_count": 116,
     "metadata": {},
     "output_type": "execute_result"
    }
   ],
   "source": [
    "tc=(bo-Bo)/sqrt( Sc*(1/len(df) + mean(x)**2)/S )\n",
    "tc"
   ]
  },
  {
   "cell_type": "code",
   "execution_count": 122,
   "metadata": {},
   "outputs": [
    {
     "data": {
      "text/plain": [
       "0.043679437215751786"
      ]
     },
     "execution_count": 122,
     "metadata": {},
     "output_type": "execute_result"
    }
   ],
   "source": [
    "sce=0\n",
    "for i in range(0, len(df)):\n",
    "    sce=( y[i] - (Bo+Ao*x[i]) )**2 + sce\n",
    "S2= sce/(len(df)-2)\n",
    "S2"
   ]
  },
  {
   "cell_type": "code",
   "execution_count": 123,
   "metadata": {},
   "outputs": [
    {
     "data": {
      "text/plain": [
       "3.4688506448829663"
      ]
     },
     "execution_count": 123,
     "metadata": {},
     "output_type": "execute_result"
    }
   ],
   "source": [
    "tc=b1/sqrt(S2/(l-z**2 /len(df)))\n",
    "tc"
   ]
  },
  {
   "cell_type": "code",
   "execution_count": 119,
   "metadata": {},
   "outputs": [],
   "source": [
    "ta=2.07387"
   ]
  },
  {
   "cell_type": "code",
   "execution_count": 125,
   "metadata": {},
   "outputs": [
    {
     "data": {
      "text/plain": [
       "30.515710669772606"
      ]
     },
     "execution_count": 125,
     "metadata": {},
     "output_type": "execute_result"
    }
   ],
   "source": [
    "scr=Ao*(l-(h/len(df)))\n",
    "scr"
   ]
  },
  {
   "cell_type": "code",
   "execution_count": 128,
   "metadata": {},
   "outputs": [],
   "source": [
    "cmr=scr/1\n",
    "cme=sce/len(df)"
   ]
  },
  {
   "cell_type": "code",
   "execution_count": 129,
   "metadata": {},
   "outputs": [
    {
     "data": {
      "text/plain": [
       "762.1404557200066"
      ]
     },
     "execution_count": 129,
     "metadata": {},
     "output_type": "execute_result"
    }
   ],
   "source": [
    "Fc= cmr/cme\n",
    "Fc"
   ]
  },
  {
   "cell_type": "code",
   "execution_count": 130,
   "metadata": {},
   "outputs": [],
   "source": [
    "F95=4.3"
   ]
  },
  {
   "cell_type": "code",
   "execution_count": null,
   "metadata": {},
   "outputs": [],
   "source": []
  }
 ],
 "metadata": {
  "kernelspec": {
   "display_name": "Python 3",
   "language": "python",
   "name": "python3"
  },
  "language_info": {
   "codemirror_mode": {
    "name": "ipython",
    "version": 3
   },
   "file_extension": ".py",
   "mimetype": "text/x-python",
   "name": "python",
   "nbconvert_exporter": "python",
   "pygments_lexer": "ipython3",
   "version": "3.7.1"
  }
 },
 "nbformat": 4,
 "nbformat_minor": 2
}
